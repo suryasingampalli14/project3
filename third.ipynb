{
 "cells": [
  {
   "cell_type": "code",
   "execution_count": 1,
   "id": "068f3695-fbf2-4081-ad17-79142d16ed59",
   "metadata": {},
   "outputs": [
    {
     "name": "stderr",
     "output_type": "stream",
     "text": [
      "[nltk_data] Downloading package vader_lexicon to\n",
      "[nltk_data]     C:\\Users\\surya\\AppData\\Roaming\\nltk_data...\n"
     ]
    },
    {
     "name": "stdout",
     "output_type": "stream",
     "text": [
      "                                              Review   Sentiment\n",
      "0    I love this product! It’s absolutely wonderful.  Positive 😀\n",
      "1        This is the worst experience I’ve ever had.  Negative 😡\n",
      "2  The movie was okay, not great but not terrible...  Positive 😀\n",
      "3  Amazing service, I will definitely come back a...  Positive 😀\n",
      "4                I’m not sure how I feel about this.  Negative 😡\n",
      "5                  Terrible quality, waste of money.  Negative 😡\n",
      "6  The food was delicious and the staff was frien...  Positive 😀\n",
      "7                  It was a boring and long lecture.  Negative 😡\n",
      "8             Great atmosphere and very clean place.  Positive 😀\n",
      "9             Mediocre performance, I expected more.   Neutral 😐\n",
      "\n",
      "✅ Sentiment analysis completed! Results saved to 'sentiment_results.csv'\n"
     ]
    }
   ],
   "source": [
    "# Task 3: Natural Language Processing - Sentiment Analysis\n",
    "\n",
    "import nltk\n",
    "import pandas as pd\n",
    "from nltk.sentiment.vader import SentimentIntensityAnalyzer\n",
    "\n",
    "# Download resource (run once)\n",
    "nltk.download(\"vader_lexicon\")\n",
    "\n",
    "# Example dataset\n",
    "data = {\n",
    "    \"Review\": [\n",
    "        \"I love this product! It’s absolutely wonderful.\",\n",
    "        \"This is the worst experience I’ve ever had.\",\n",
    "        \"The movie was okay, not great but not terrible either.\",\n",
    "        \"Amazing service, I will definitely come back again!\",\n",
    "        \"I’m not sure how I feel about this.\",\n",
    "        \"Terrible quality, waste of money.\",\n",
    "        \"The food was delicious and the staff was friendly.\",\n",
    "        \"It was a boring and long lecture.\",\n",
    "        \"Great atmosphere and very clean place.\",\n",
    "        \"Mediocre performance, I expected more.\"\n",
    "    ]\n",
    "}\n",
    "\n",
    "df = pd.DataFrame(data)\n",
    "\n",
    "# Initialize sentiment analyzer\n",
    "sid = SentimentIntensityAnalyzer()\n",
    "\n",
    "# Function to analyze sentiment\n",
    "def analyze_sentiment(text):\n",
    "    scores = sid.polarity_scores(text)\n",
    "    compound = scores['compound']\n",
    "    if compound >= 0.05:\n",
    "        return \"Positive 😀\"\n",
    "    elif compound <= -0.05:\n",
    "        return \"Negative 😡\"\n",
    "    else:\n",
    "        return \"Neutral 😐\"\n",
    "\n",
    "# Apply sentiment analysis\n",
    "df[\"Sentiment\"] = df[\"Review\"].apply(analyze_sentiment)\n",
    "\n",
    "# Show results\n",
    "print(df)\n",
    "\n",
    "# Save to CSV\n",
    "df.to_csv(\"sentiment_results.csv\", index=False)\n",
    "print(\"\\n✅ Sentiment analysis completed! Results saved to 'sentiment_results.csv'\")"
   ]
  },
  {
   "cell_type": "code",
   "execution_count": null,
   "id": "bb9e8ed0-606c-4fa2-8750-b101063ed1c5",
   "metadata": {},
   "outputs": [],
   "source": []
  }
 ],
 "metadata": {
  "kernelspec": {
   "display_name": "Python 3 (ipykernel)",
   "language": "python",
   "name": "python3"
  },
  "language_info": {
   "codemirror_mode": {
    "name": "ipython",
    "version": 3
   },
   "file_extension": ".py",
   "mimetype": "text/x-python",
   "name": "python",
   "nbconvert_exporter": "python",
   "pygments_lexer": "ipython3",
   "version": "3.12.7"
  }
 },
 "nbformat": 4,
 "nbformat_minor": 5
}
